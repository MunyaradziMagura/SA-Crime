{
 "cells": [
  {
   "cell_type": "markdown",
   "id": "1d5b8b69",
   "metadata": {},
   "source": [
    "# South Australia Crime Data \n",
    "## Data \n",
    "Data is courtesy of **South Australian Government Data Directory & SAPOL**. \n",
    "\n",
    "[CRIME DATA](https://data.sa.gov.au/data/dataset/crime-statistics) \n",
    "[SUBURB DATA](https://data.sa.gov.au/data/dataset/suburb-boundaries/resource/58b3b8ef-f292-4e27-a7bc-215ad7670cda)\n",
    "\n",
    "## Problem\n",
    "Clean, Visualise and identify South Australian Crime data trends\n",
    "https://monkeylearn.com/data-cleaning/\n",
    "https://monkeylearn.com/blog/data-cleaning-python/\n",
    "\n",
    "### Cleaning: Will be split into three categoties\n",
    "1. **Data exploring:** Understanding the data, noting any changes that need to be implmented on the data and identifying patterns, elements and relationships\n",
    "2. **Data Filtering:** remove record that wont be useful downstream\n",
    "3. **Data Cleaning:** remove as much noise as possible"
   ]
  },
  {
   "cell_type": "code",
   "execution_count": 1,
   "id": "e2cb8d22",
   "metadata": {},
   "outputs": [],
   "source": [
    "import pandas as pd\n",
    "import numpy as np\n",
    "import matplotlib.pyplot as plt"
   ]
  },
  {
   "cell_type": "code",
   "execution_count": 2,
   "id": "4d906b71",
   "metadata": {},
   "outputs": [
    {
     "data": {
      "text/html": [
       "<div>\n",
       "<style scoped>\n",
       "    .dataframe tbody tr th:only-of-type {\n",
       "        vertical-align: middle;\n",
       "    }\n",
       "\n",
       "    .dataframe tbody tr th {\n",
       "        vertical-align: top;\n",
       "    }\n",
       "\n",
       "    .dataframe thead th {\n",
       "        text-align: right;\n",
       "    }\n",
       "</style>\n",
       "<table border=\"1\" class=\"dataframe\">\n",
       "  <thead>\n",
       "    <tr style=\"text-align: right;\">\n",
       "      <th></th>\n",
       "      <th>Reported Date</th>\n",
       "      <th>Suburb - Incident</th>\n",
       "      <th>Postcode - Incident</th>\n",
       "      <th>Offence Level 1 Description</th>\n",
       "      <th>Offence Level 2 Description</th>\n",
       "      <th>Offence Level 3 Description</th>\n",
       "      <th>Offence count</th>\n",
       "    </tr>\n",
       "  </thead>\n",
       "  <tbody>\n",
       "    <tr>\n",
       "      <th>0</th>\n",
       "      <td>1/07/2018</td>\n",
       "      <td>ABERFOYLE PARK</td>\n",
       "      <td>5159</td>\n",
       "      <td>OFFENCES AGAINST PROPERTY</td>\n",
       "      <td>THEFT AND RELATED OFFENCES</td>\n",
       "      <td>Theft from motor vehicle</td>\n",
       "      <td>1.0</td>\n",
       "    </tr>\n",
       "    <tr>\n",
       "      <th>1</th>\n",
       "      <td>1/07/2018</td>\n",
       "      <td>ADELAIDE</td>\n",
       "      <td>5000</td>\n",
       "      <td>OFFENCES AGAINST PROPERTY</td>\n",
       "      <td>PROPERTY DAMAGE AND ENVIRONMENTAL</td>\n",
       "      <td>Other property damage and environmental</td>\n",
       "      <td>1.0</td>\n",
       "    </tr>\n",
       "    <tr>\n",
       "      <th>2</th>\n",
       "      <td>1/07/2018</td>\n",
       "      <td>ADELAIDE</td>\n",
       "      <td>5000</td>\n",
       "      <td>OFFENCES AGAINST PROPERTY</td>\n",
       "      <td>THEFT AND RELATED OFFENCES</td>\n",
       "      <td>Other theft</td>\n",
       "      <td>5.0</td>\n",
       "    </tr>\n",
       "    <tr>\n",
       "      <th>3</th>\n",
       "      <td>1/07/2018</td>\n",
       "      <td>ADELAIDE</td>\n",
       "      <td>5000</td>\n",
       "      <td>OFFENCES AGAINST PROPERTY</td>\n",
       "      <td>THEFT AND RELATED OFFENCES</td>\n",
       "      <td>Receive or handle proceeds of crime</td>\n",
       "      <td>1.0</td>\n",
       "    </tr>\n",
       "    <tr>\n",
       "      <th>4</th>\n",
       "      <td>1/07/2018</td>\n",
       "      <td>ADELAIDE</td>\n",
       "      <td>5000</td>\n",
       "      <td>OFFENCES AGAINST PROPERTY</td>\n",
       "      <td>THEFT AND RELATED OFFENCES</td>\n",
       "      <td>Theft from motor vehicle</td>\n",
       "      <td>1.0</td>\n",
       "    </tr>\n",
       "  </tbody>\n",
       "</table>\n",
       "</div>"
      ],
      "text/plain": [
       "  Reported Date Suburb - Incident Postcode - Incident  \\\n",
       "0     1/07/2018    ABERFOYLE PARK                5159   \n",
       "1     1/07/2018          ADELAIDE                5000   \n",
       "2     1/07/2018          ADELAIDE                5000   \n",
       "3     1/07/2018          ADELAIDE                5000   \n",
       "4     1/07/2018          ADELAIDE                5000   \n",
       "\n",
       "  Offence Level 1 Description        Offence Level 2 Description  \\\n",
       "0   OFFENCES AGAINST PROPERTY         THEFT AND RELATED OFFENCES   \n",
       "1   OFFENCES AGAINST PROPERTY  PROPERTY DAMAGE AND ENVIRONMENTAL   \n",
       "2   OFFENCES AGAINST PROPERTY         THEFT AND RELATED OFFENCES   \n",
       "3   OFFENCES AGAINST PROPERTY         THEFT AND RELATED OFFENCES   \n",
       "4   OFFENCES AGAINST PROPERTY         THEFT AND RELATED OFFENCES   \n",
       "\n",
       "               Offence Level 3 Description  Offence count  \n",
       "0                 Theft from motor vehicle            1.0  \n",
       "1  Other property damage and environmental            1.0  \n",
       "2                              Other theft            5.0  \n",
       "3      Receive or handle proceeds of crime            1.0  \n",
       "4                 Theft from motor vehicle            1.0  "
      ]
     },
     "execution_count": 2,
     "metadata": {},
     "output_type": "execute_result"
    }
   ],
   "source": [
    "data_crime = pd.read_csv('resources/2018-19-data_sa_crime.csv')\n",
    "data = pd.DataFrame(data_crime)\n",
    "data_suburb = pd.read_csv('resources/SASuburbs.csv')\n",
    "suburb = pd.DataFrame(data_suburb)\n",
    "data.head()\n"
   ]
  },
  {
   "cell_type": "markdown",
   "id": "07cd35b1",
   "metadata": {},
   "source": [
    "# Locate missing data \n",
    "Locate missing data using the python funciton `isnull()`, which will identify every where within our data set where there is missing values.This function will return a list where `True` indicates a missing value. We then use the `sum()` function will return the number of missing elements per column "
   ]
  },
  {
   "cell_type": "code",
   "execution_count": 3,
   "id": "7c3546f3",
   "metadata": {},
   "outputs": [
    {
     "data": {
      "text/plain": [
       "Reported Date                    1\n",
       "Suburb - Incident              197\n",
       "Postcode - Incident            373\n",
       "Offence Level 1 Description      1\n",
       "Offence Level 2 Description      1\n",
       "Offence Level 3 Description      1\n",
       "Offence count                    1\n",
       "dtype: int64"
      ]
     },
     "execution_count": 3,
     "metadata": {},
     "output_type": "execute_result"
    }
   ],
   "source": [
    "data.isnull().sum()"
   ]
  },
  {
   "cell_type": "markdown",
   "id": "62ecb25a",
   "metadata": {},
   "source": [
    "# Cleaning\n",
    "Looking at the above table, it is evident that the key columns of this data set are:\n",
    "1. Reported Date \n",
    "2. Postcode - Incident\n",
    "3. Offence Level 1 Description\n",
    "4. Offence count\n",
    "\n",
    "## Replacing missing data\n",
    "- Missing data within the *Suburb - Incident* row can be filled assuming the post code is known. \n",
    "\n",
    "- We will not be filling *Postcode - Incident* information that is missing as multiple postcodes can have the same or differnt suburb name i.e. *Postcode - Incident* is an **identifier** where as *Suburb - Incident* is an **identity**\n",
    "\n",
    "# Removing data\n",
    "- Any column which is missing the aforementioned four missing values will be removed as they are critical to this analysis\n"
   ]
  },
  {
   "cell_type": "code",
   "execution_count": 4,
   "id": "c5485d79",
   "metadata": {},
   "outputs": [
    {
     "data": {
      "text/plain": [
       "Reported Date                    0\n",
       "Suburb - Incident                0\n",
       "Postcode - Incident            182\n",
       "Offence Level 1 Description      0\n",
       "Offence Level 2 Description      0\n",
       "Offence Level 3 Description      0\n",
       "Offence count                    0\n",
       "dtype: int64"
      ]
     },
     "execution_count": 4,
     "metadata": {},
     "output_type": "execute_result"
    }
   ],
   "source": [
    "# remove empty row\n",
    "remove = ['Suburb - Incident','Reported Date','Offence count','Offence Level 1 Description']\n",
    "data.dropna(subset=remove, inplace=True)\n",
    "data.isnull().sum()"
   ]
  },
  {
   "cell_type": "markdown",
   "id": "3ec00975",
   "metadata": {},
   "source": [
    "# Clean suburbs data \n",
    "The suburbs datas set only needs two rows, being the zipcode row and the suburb name row.\n"
   ]
  },
  {
   "cell_type": "code",
   "execution_count": 5,
   "id": "f8f8bc75",
   "metadata": {},
   "outputs": [
    {
     "data": {
      "text/html": [
       "<div>\n",
       "<style scoped>\n",
       "    .dataframe tbody tr th:only-of-type {\n",
       "        vertical-align: middle;\n",
       "    }\n",
       "\n",
       "    .dataframe tbody tr th {\n",
       "        vertical-align: top;\n",
       "    }\n",
       "\n",
       "    .dataframe thead th {\n",
       "        text-align: right;\n",
       "    }\n",
       "</style>\n",
       "<table border=\"1\" class=\"dataframe\">\n",
       "  <thead>\n",
       "    <tr style=\"text-align: right;\">\n",
       "      <th></th>\n",
       "      <th>_id</th>\n",
       "      <th>postcode</th>\n",
       "      <th>suburb</th>\n",
       "      <th>suburb_num</th>\n",
       "      <th>legalstart</th>\n",
       "      <th>shape_Leng</th>\n",
       "      <th>shape_Area</th>\n",
       "    </tr>\n",
       "  </thead>\n",
       "  <tbody>\n",
       "    <tr>\n",
       "      <th>0</th>\n",
       "      <td>1</td>\n",
       "      <td>872</td>\n",
       "      <td>AMATA</td>\n",
       "      <td>87206</td>\n",
       "      <td>00000000</td>\n",
       "      <td>0.258469</td>\n",
       "      <td>0.003274</td>\n",
       "    </tr>\n",
       "    <tr>\n",
       "      <th>1</th>\n",
       "      <td>2</td>\n",
       "      <td>872</td>\n",
       "      <td>ANANGU PITJANTJATJARA YANKUNYTJATJARA</td>\n",
       "      <td>87205</td>\n",
       "      <td>00000000</td>\n",
       "      <td>16.039186</td>\n",
       "      <td>9.288729</td>\n",
       "    </tr>\n",
       "    <tr>\n",
       "      <th>2</th>\n",
       "      <td>3</td>\n",
       "      <td>872</td>\n",
       "      <td>AYERS RANGE SOUTH</td>\n",
       "      <td>87202</td>\n",
       "      <td>26/04/2013</td>\n",
       "      <td>1.466852</td>\n",
       "      <td>0.117333</td>\n",
       "    </tr>\n",
       "    <tr>\n",
       "      <th>3</th>\n",
       "      <td>4</td>\n",
       "      <td>872</td>\n",
       "      <td>DE ROSE HILL</td>\n",
       "      <td>87201</td>\n",
       "      <td>26/04/2013</td>\n",
       "      <td>1.685673</td>\n",
       "      <td>0.167839</td>\n",
       "    </tr>\n",
       "    <tr>\n",
       "      <th>4</th>\n",
       "      <td>5</td>\n",
       "      <td>872</td>\n",
       "      <td>IWANTJA</td>\n",
       "      <td>87209</td>\n",
       "      <td>00000000</td>\n",
       "      <td>0.143976</td>\n",
       "      <td>0.001144</td>\n",
       "    </tr>\n",
       "  </tbody>\n",
       "</table>\n",
       "</div>"
      ],
      "text/plain": [
       "   _id  postcode                                 suburb  suburb_num  \\\n",
       "0    1       872                                  AMATA       87206   \n",
       "1    2       872  ANANGU PITJANTJATJARA YANKUNYTJATJARA       87205   \n",
       "2    3       872                      AYERS RANGE SOUTH       87202   \n",
       "3    4       872                           DE ROSE HILL       87201   \n",
       "4    5       872                                IWANTJA       87209   \n",
       "\n",
       "   legalstart  shape_Leng  shape_Area  \n",
       "0    00000000    0.258469    0.003274  \n",
       "1    00000000   16.039186    9.288729  \n",
       "2  26/04/2013    1.466852    0.117333  \n",
       "3  26/04/2013    1.685673    0.167839  \n",
       "4    00000000    0.143976    0.001144  "
      ]
     },
     "execution_count": 5,
     "metadata": {},
     "output_type": "execute_result"
    }
   ],
   "source": [
    "suburb.head()"
   ]
  },
  {
   "cell_type": "code",
   "execution_count": 6,
   "id": "715e8bfc",
   "metadata": {},
   "outputs": [
    {
     "data": {
      "text/html": [
       "<div>\n",
       "<style scoped>\n",
       "    .dataframe tbody tr th:only-of-type {\n",
       "        vertical-align: middle;\n",
       "    }\n",
       "\n",
       "    .dataframe tbody tr th {\n",
       "        vertical-align: top;\n",
       "    }\n",
       "\n",
       "    .dataframe thead th {\n",
       "        text-align: right;\n",
       "    }\n",
       "</style>\n",
       "<table border=\"1\" class=\"dataframe\">\n",
       "  <thead>\n",
       "    <tr style=\"text-align: right;\">\n",
       "      <th></th>\n",
       "      <th>postcode</th>\n",
       "      <th>suburb</th>\n",
       "    </tr>\n",
       "  </thead>\n",
       "  <tbody>\n",
       "    <tr>\n",
       "      <th>0</th>\n",
       "      <td>872</td>\n",
       "      <td>AMATA</td>\n",
       "    </tr>\n",
       "    <tr>\n",
       "      <th>1</th>\n",
       "      <td>872</td>\n",
       "      <td>ANANGU PITJANTJATJARA YANKUNYTJATJARA</td>\n",
       "    </tr>\n",
       "    <tr>\n",
       "      <th>2</th>\n",
       "      <td>872</td>\n",
       "      <td>AYERS RANGE SOUTH</td>\n",
       "    </tr>\n",
       "    <tr>\n",
       "      <th>3</th>\n",
       "      <td>872</td>\n",
       "      <td>DE ROSE HILL</td>\n",
       "    </tr>\n",
       "    <tr>\n",
       "      <th>4</th>\n",
       "      <td>872</td>\n",
       "      <td>IWANTJA</td>\n",
       "    </tr>\n",
       "  </tbody>\n",
       "</table>\n",
       "</div>"
      ],
      "text/plain": [
       "   postcode                                 suburb\n",
       "0       872                                  AMATA\n",
       "1       872  ANANGU PITJANTJATJARA YANKUNYTJATJARA\n",
       "2       872                      AYERS RANGE SOUTH\n",
       "3       872                           DE ROSE HILL\n",
       "4       872                                IWANTJA"
      ]
     },
     "execution_count": 6,
     "metadata": {},
     "output_type": "execute_result"
    }
   ],
   "source": [
    "# remove the following columns, becayse we dont need them\n",
    "remove = ['_id','suburb_num','legalstart','shape_Leng','shape_Area']\n",
    "suburb.drop(remove, inplace = True, axis =1)\n",
    "suburb.head()"
   ]
  },
  {
   "cell_type": "code",
   "execution_count": 7,
   "id": "f4d2d8c4",
   "metadata": {},
   "outputs": [
    {
     "data": {
      "text/plain": [
       "postcode    0\n",
       "suburb      0\n",
       "dtype: int64"
      ]
     },
     "execution_count": 7,
     "metadata": {},
     "output_type": "execute_result"
    }
   ],
   "source": [
    "#check there are no missing values in the data\n",
    "suburb.isnull().sum()"
   ]
  },
  {
   "cell_type": "markdown",
   "id": "05c17c20",
   "metadata": {},
   "source": [
    "# Update Missing Data \n",
    "Here we will add zipcodes to all missing suburbs within our `data` dataframe.\n",
    "\n",
    "To do this we create transform the `subrurb` dataframe into a dictionary where the key is the suburb name and the value is the suburb postcode.\n"
   ]
  },
  {
   "cell_type": "code",
   "execution_count": 8,
   "id": "d609959c",
   "metadata": {},
   "outputs": [
    {
     "data": {
      "text/plain": [
       "['postcode', 'suburb']"
      ]
     },
     "execution_count": 8,
     "metadata": {},
     "output_type": "execute_result"
    }
   ],
   "source": [
    "suburb_titles = list(suburb.columns)\n",
    "suburb_titles"
   ]
  },
  {
   "cell_type": "code",
   "execution_count": 9,
   "id": "2ccd7ff4",
   "metadata": {},
   "outputs": [
    {
     "data": {
      "text/plain": [
       "['suburb', 'postcode']"
      ]
     },
     "execution_count": 9,
     "metadata": {},
     "output_type": "execute_result"
    }
   ],
   "source": [
    "# swap titles\n",
    "suburb_titles[0], suburb_titles[1] = suburb_titles[1], suburb_titles[0]\n",
    "suburb_titles"
   ]
  },
  {
   "cell_type": "code",
   "execution_count": 10,
   "id": "2a44471a",
   "metadata": {},
   "outputs": [
    {
     "data": {
      "text/html": [
       "<div>\n",
       "<style scoped>\n",
       "    .dataframe tbody tr th:only-of-type {\n",
       "        vertical-align: middle;\n",
       "    }\n",
       "\n",
       "    .dataframe tbody tr th {\n",
       "        vertical-align: top;\n",
       "    }\n",
       "\n",
       "    .dataframe thead th {\n",
       "        text-align: right;\n",
       "    }\n",
       "</style>\n",
       "<table border=\"1\" class=\"dataframe\">\n",
       "  <thead>\n",
       "    <tr style=\"text-align: right;\">\n",
       "      <th></th>\n",
       "      <th>suburb</th>\n",
       "      <th>postcode</th>\n",
       "    </tr>\n",
       "  </thead>\n",
       "  <tbody>\n",
       "    <tr>\n",
       "      <th>0</th>\n",
       "      <td>AMATA</td>\n",
       "      <td>872</td>\n",
       "    </tr>\n",
       "    <tr>\n",
       "      <th>1</th>\n",
       "      <td>ANANGU PITJANTJATJARA YANKUNYTJATJARA</td>\n",
       "      <td>872</td>\n",
       "    </tr>\n",
       "    <tr>\n",
       "      <th>2</th>\n",
       "      <td>AYERS RANGE SOUTH</td>\n",
       "      <td>872</td>\n",
       "    </tr>\n",
       "    <tr>\n",
       "      <th>3</th>\n",
       "      <td>DE ROSE HILL</td>\n",
       "      <td>872</td>\n",
       "    </tr>\n",
       "    <tr>\n",
       "      <th>4</th>\n",
       "      <td>IWANTJA</td>\n",
       "      <td>872</td>\n",
       "    </tr>\n",
       "    <tr>\n",
       "      <th>...</th>\n",
       "      <td>...</td>\n",
       "      <td>...</td>\n",
       "    </tr>\n",
       "    <tr>\n",
       "      <th>1888</th>\n",
       "      <td>MULOORINA</td>\n",
       "      <td>5733</td>\n",
       "    </tr>\n",
       "    <tr>\n",
       "      <th>1889</th>\n",
       "      <td>MUNDOWDNA</td>\n",
       "      <td>5733</td>\n",
       "    </tr>\n",
       "    <tr>\n",
       "      <th>1890</th>\n",
       "      <td>MUNGERANIE</td>\n",
       "      <td>5733</td>\n",
       "    </tr>\n",
       "    <tr>\n",
       "      <th>1891</th>\n",
       "      <td>CROWN POINT</td>\n",
       "      <td>5734</td>\n",
       "    </tr>\n",
       "    <tr>\n",
       "      <th>1892</th>\n",
       "      <td>ADELAIDE AIRPORT</td>\n",
       "      <td>5950</td>\n",
       "    </tr>\n",
       "  </tbody>\n",
       "</table>\n",
       "<p>1893 rows × 2 columns</p>\n",
       "</div>"
      ],
      "text/plain": [
       "                                     suburb  postcode\n",
       "0                                     AMATA       872\n",
       "1     ANANGU PITJANTJATJARA YANKUNYTJATJARA       872\n",
       "2                         AYERS RANGE SOUTH       872\n",
       "3                              DE ROSE HILL       872\n",
       "4                                   IWANTJA       872\n",
       "...                                     ...       ...\n",
       "1888                              MULOORINA      5733\n",
       "1889                              MUNDOWDNA      5733\n",
       "1890                             MUNGERANIE      5733\n",
       "1891                            CROWN POINT      5734\n",
       "1892                       ADELAIDE AIRPORT      5950\n",
       "\n",
       "[1893 rows x 2 columns]"
      ]
     },
     "execution_count": 10,
     "metadata": {},
     "output_type": "execute_result"
    }
   ],
   "source": [
    "# swap order of data \n",
    "suburb = suburb[suburb_titles]\n",
    "suburb"
   ]
  },
  {
   "cell_type": "code",
   "execution_count": 11,
   "id": "6adecb94",
   "metadata": {},
   "outputs": [],
   "source": [
    "#convert suburb dataframe into dictionary\n",
    "dic_suburb = suburb.set_index('suburb').to_dict()['postcode']"
   ]
  },
  {
   "cell_type": "code",
   "execution_count": 12,
   "id": "0010e50a",
   "metadata": {
    "scrolled": true
   },
   "outputs": [],
   "source": [
    "# add zipcodes to suburbs\n",
    "for index, row in data.iterrows():\n",
    "    if pd.isnull(data.loc[index, 'Postcode - Incident']) == True:\n",
    "        #replace postcode NAN @ index, with the value of key Suburb\n",
    "        data.replace({row['Postcode - Incident'], index},dic_suburb[row['Suburb - Incident']], inplace=True)\n",
    "        "
   ]
  },
  {
   "cell_type": "code",
   "execution_count": 13,
   "id": "bd106c29",
   "metadata": {},
   "outputs": [
    {
     "data": {
      "text/plain": [
       "0"
      ]
     },
     "execution_count": 13,
     "metadata": {},
     "output_type": "execute_result"
    }
   ],
   "source": [
    "# check for duplicates\n",
    "data.duplicated().sum()"
   ]
  },
  {
   "cell_type": "markdown",
   "id": "4439f7eb",
   "metadata": {},
   "source": [
    "# Normalising Data\n",
    "ensure all data is in the same format i.e. case size"
   ]
  },
  {
   "cell_type": "code",
   "execution_count": 14,
   "id": "ea8d0fdf",
   "metadata": {},
   "outputs": [],
   "source": [
    "data_titles = list(data.columns)\n",
    "#data_titlesNormalising"
   ]
  },
  {
   "cell_type": "code",
   "execution_count": 15,
   "id": "3e7668ca",
   "metadata": {},
   "outputs": [],
   "source": [
    "data['Suburb - Incident'] = data['Suburb - Incident'].str.upper()\n",
    "data['Offence Level 1 Description'] = data['Offence Level 1 Description'].str.upper()\n",
    "data['Offence Level 2 Description'] = data['Offence Level 2 Description'].str.upper()\n",
    "data['Offence Level 3 Description'] = data['Offence Level 3 Description'].str.upper()\n",
    "data['Offence count'] = data['Offence count'].astype(int)\n",
    "#data['Postcode - Incident']= data['Postcode - Incident'].astype(int)"
   ]
  },
  {
   "cell_type": "code",
   "execution_count": 16,
   "id": "9e517202",
   "metadata": {},
   "outputs": [
    {
     "data": {
      "text/plain": [
       "Reported Date                  object\n",
       "Suburb - Incident              object\n",
       "Postcode - Incident            object\n",
       "Offence Level 1 Description    object\n",
       "Offence Level 2 Description    object\n",
       "Offence Level 3 Description    object\n",
       "Offence count                   int32\n",
       "dtype: object"
      ]
     },
     "metadata": {},
     "output_type": "display_data"
    }
   ],
   "source": [
    "display(data.dtypes)"
   ]
  },
  {
   "cell_type": "code",
   "execution_count": 17,
   "id": "177ae53a",
   "metadata": {},
   "outputs": [
    {
     "data": {
      "text/html": [
       "<div>\n",
       "<style scoped>\n",
       "    .dataframe tbody tr th:only-of-type {\n",
       "        vertical-align: middle;\n",
       "    }\n",
       "\n",
       "    .dataframe tbody tr th {\n",
       "        vertical-align: top;\n",
       "    }\n",
       "\n",
       "    .dataframe thead th {\n",
       "        text-align: right;\n",
       "    }\n",
       "</style>\n",
       "<table border=\"1\" class=\"dataframe\">\n",
       "  <thead>\n",
       "    <tr style=\"text-align: right;\">\n",
       "      <th></th>\n",
       "      <th>Reported Date</th>\n",
       "      <th>Suburb - Incident</th>\n",
       "      <th>Postcode - Incident</th>\n",
       "      <th>Offence Level 1 Description</th>\n",
       "      <th>Offence Level 2 Description</th>\n",
       "      <th>Offence Level 3 Description</th>\n",
       "      <th>Offence count</th>\n",
       "    </tr>\n",
       "  </thead>\n",
       "  <tbody>\n",
       "    <tr>\n",
       "      <th>0</th>\n",
       "      <td>1/07/2018</td>\n",
       "      <td>ABERFOYLE PARK</td>\n",
       "      <td>5159</td>\n",
       "      <td>OFFENCES AGAINST PROPERTY</td>\n",
       "      <td>THEFT AND RELATED OFFENCES</td>\n",
       "      <td>THEFT FROM MOTOR VEHICLE</td>\n",
       "      <td>1</td>\n",
       "    </tr>\n",
       "    <tr>\n",
       "      <th>1</th>\n",
       "      <td>1/07/2018</td>\n",
       "      <td>ADELAIDE</td>\n",
       "      <td>5000</td>\n",
       "      <td>OFFENCES AGAINST PROPERTY</td>\n",
       "      <td>PROPERTY DAMAGE AND ENVIRONMENTAL</td>\n",
       "      <td>OTHER PROPERTY DAMAGE AND ENVIRONMENTAL</td>\n",
       "      <td>1</td>\n",
       "    </tr>\n",
       "    <tr>\n",
       "      <th>2</th>\n",
       "      <td>1/07/2018</td>\n",
       "      <td>ADELAIDE</td>\n",
       "      <td>5000</td>\n",
       "      <td>OFFENCES AGAINST PROPERTY</td>\n",
       "      <td>THEFT AND RELATED OFFENCES</td>\n",
       "      <td>OTHER THEFT</td>\n",
       "      <td>5</td>\n",
       "    </tr>\n",
       "    <tr>\n",
       "      <th>3</th>\n",
       "      <td>1/07/2018</td>\n",
       "      <td>ADELAIDE</td>\n",
       "      <td>5000</td>\n",
       "      <td>OFFENCES AGAINST PROPERTY</td>\n",
       "      <td>THEFT AND RELATED OFFENCES</td>\n",
       "      <td>RECEIVE OR HANDLE PROCEEDS OF CRIME</td>\n",
       "      <td>1</td>\n",
       "    </tr>\n",
       "    <tr>\n",
       "      <th>4</th>\n",
       "      <td>1/07/2018</td>\n",
       "      <td>ADELAIDE</td>\n",
       "      <td>5000</td>\n",
       "      <td>OFFENCES AGAINST PROPERTY</td>\n",
       "      <td>THEFT AND RELATED OFFENCES</td>\n",
       "      <td>THEFT FROM MOTOR VEHICLE</td>\n",
       "      <td>1</td>\n",
       "    </tr>\n",
       "  </tbody>\n",
       "</table>\n",
       "</div>"
      ],
      "text/plain": [
       "  Reported Date Suburb - Incident Postcode - Incident  \\\n",
       "0     1/07/2018    ABERFOYLE PARK                5159   \n",
       "1     1/07/2018          ADELAIDE                5000   \n",
       "2     1/07/2018          ADELAIDE                5000   \n",
       "3     1/07/2018          ADELAIDE                5000   \n",
       "4     1/07/2018          ADELAIDE                5000   \n",
       "\n",
       "  Offence Level 1 Description        Offence Level 2 Description  \\\n",
       "0   OFFENCES AGAINST PROPERTY         THEFT AND RELATED OFFENCES   \n",
       "1   OFFENCES AGAINST PROPERTY  PROPERTY DAMAGE AND ENVIRONMENTAL   \n",
       "2   OFFENCES AGAINST PROPERTY         THEFT AND RELATED OFFENCES   \n",
       "3   OFFENCES AGAINST PROPERTY         THEFT AND RELATED OFFENCES   \n",
       "4   OFFENCES AGAINST PROPERTY         THEFT AND RELATED OFFENCES   \n",
       "\n",
       "               Offence Level 3 Description  Offence count  \n",
       "0                 THEFT FROM MOTOR VEHICLE              1  \n",
       "1  OTHER PROPERTY DAMAGE AND ENVIRONMENTAL              1  \n",
       "2                              OTHER THEFT              5  \n",
       "3      RECEIVE OR HANDLE PROCEEDS OF CRIME              1  \n",
       "4                 THEFT FROM MOTOR VEHICLE              1  "
      ]
     },
     "execution_count": 17,
     "metadata": {},
     "output_type": "execute_result"
    }
   ],
   "source": [
    "data.head()"
   ]
  },
  {
   "cell_type": "markdown",
   "id": "393d3ba6",
   "metadata": {},
   "source": [
    "# Get the number of crimes per-Offence Level 2 Description \n",
    "visualise how many offences are commited per offence."
   ]
  },
  {
   "cell_type": "code",
   "execution_count": 92,
   "id": "a38613e4",
   "metadata": {},
   "outputs": [],
   "source": [
    "\n",
    "crime = pd.DataFrame(data[:100].groupby(['Offence Level 2 Description'])['Offence count'].count())"
   ]
  },
  {
   "cell_type": "code",
   "execution_count": 124,
   "id": "125fee92",
   "metadata": {},
   "outputs": [
    {
     "data": {
      "image/png": "[encoded data removed]",
      "text/plain": [
       "<Figure size 720x432 with 1 Axes>"
      ]
     },
     "metadata": {
      "needs_background": "light"
     },
     "output_type": "display_data"
    }
   ],
   "source": [
    "# update figure size \n",
    "plt.rcParams['figure.figsize'] = (10,6)\n",
    "# plot crime in bar chart\n",
    "crime.plot.bar(color=(0.1, 0.1, 0.1, 0.1),  edgecolor='blue')\n",
    "# Show graph\n",
    "plt.show()"
   ]
  },
  {
   "cell_type": "code",
   "execution_count": null,
   "id": "1ac05fdd",
   "metadata": {},
   "outputs": [],
   "source": []
  }
 ],
 "metadata": {
  "kernelspec": {
   "display_name": "Python 3 (ipykernel)",
   "language": "python",
   "name": "python3"
  },
  "language_info": {
   "codemirror_mode": {
    "name": "ipython",
    "version": 3
   },
   "file_extension": ".py",
   "mimetype": "text/x-python",
   "name": "python",
   "nbconvert_exporter": "python",
   "pygments_lexer": "ipython3",
   "version": "3.9.7"
  }
 },
 "nbformat": 4,
 "nbformat_minor": 5
}
