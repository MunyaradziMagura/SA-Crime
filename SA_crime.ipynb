{
 "cells": [
  {
   "cell_type": "markdown",
   "id": "06638bd3",
   "metadata": {},
   "source": [
    "# South Australia Crime Data \n",
    "## Data \n",
    "Data is courtesy of **South Australian Government Data Directory & SAPOL**. [DATA](https://data.sa.gov.au/data/dataset/crime-statistics).\n",
    "## Problem\n",
    "Clean, Visualise and identify South Australian Crime data trends\n",
    "https://monkeylearn.com/data-cleaning/\n",
    "https://monkeylearn.com/blog/data-cleaning-python/\n",
    "\n",
    "### Cleaning: Will be split into three categoties\n",
    "1. **Data exploring:** Understanding the data, noting any changes that need to be implmented on the data and identifying patterns, elements and relationships\n",
    "2. **Data Filtering:**\n",
    "3. **Data Cleaning:** "
   ]
  },
  {
   "cell_type": "code",
   "execution_count": 3,
   "id": "78d435b3",
   "metadata": {},
   "outputs": [],
   "source": [
    "import pandas as pd\n",
    "import numpy as np"
   ]
  },
  {
   "cell_type": "code",
   "execution_count": 4,
   "id": "18dda1ee",
   "metadata": {},
   "outputs": [
    {
     "data": {
      "text/html": [
       "<div>\n",
       "<style scoped>\n",
       "    .dataframe tbody tr th:only-of-type {\n",
       "        vertical-align: middle;\n",
       "    }\n",
       "\n",
       "    .dataframe tbody tr th {\n",
       "        vertical-align: top;\n",
       "    }\n",
       "\n",
       "    .dataframe thead th {\n",
       "        text-align: right;\n",
       "    }\n",
       "</style>\n",
       "<table border=\"1\" class=\"dataframe\">\n",
       "  <thead>\n",
       "    <tr style=\"text-align: right;\">\n",
       "      <th></th>\n",
       "      <th>Reported Date</th>\n",
       "      <th>Suburb - Incident</th>\n",
       "      <th>Postcode - Incident</th>\n",
       "      <th>Offence Level 1 Description</th>\n",
       "      <th>Offence Level 2 Description</th>\n",
       "      <th>Offence Level 3 Description</th>\n",
       "      <th>Offence count</th>\n",
       "    </tr>\n",
       "  </thead>\n",
       "  <tbody>\n",
       "    <tr>\n",
       "      <th>0</th>\n",
       "      <td>1/07/2018</td>\n",
       "      <td>ABERFOYLE PARK</td>\n",
       "      <td>5159</td>\n",
       "      <td>OFFENCES AGAINST PROPERTY</td>\n",
       "      <td>THEFT AND RELATED OFFENCES</td>\n",
       "      <td>Theft from motor vehicle</td>\n",
       "      <td>1.0</td>\n",
       "    </tr>\n",
       "    <tr>\n",
       "      <th>1</th>\n",
       "      <td>1/07/2018</td>\n",
       "      <td>ADELAIDE</td>\n",
       "      <td>5000</td>\n",
       "      <td>OFFENCES AGAINST PROPERTY</td>\n",
       "      <td>PROPERTY DAMAGE AND ENVIRONMENTAL</td>\n",
       "      <td>Other property damage and environmental</td>\n",
       "      <td>1.0</td>\n",
       "    </tr>\n",
       "    <tr>\n",
       "      <th>2</th>\n",
       "      <td>1/07/2018</td>\n",
       "      <td>ADELAIDE</td>\n",
       "      <td>5000</td>\n",
       "      <td>OFFENCES AGAINST PROPERTY</td>\n",
       "      <td>THEFT AND RELATED OFFENCES</td>\n",
       "      <td>Other theft</td>\n",
       "      <td>5.0</td>\n",
       "    </tr>\n",
       "    <tr>\n",
       "      <th>3</th>\n",
       "      <td>1/07/2018</td>\n",
       "      <td>ADELAIDE</td>\n",
       "      <td>5000</td>\n",
       "      <td>OFFENCES AGAINST PROPERTY</td>\n",
       "      <td>THEFT AND RELATED OFFENCES</td>\n",
       "      <td>Receive or handle proceeds of crime</td>\n",
       "      <td>1.0</td>\n",
       "    </tr>\n",
       "    <tr>\n",
       "      <th>4</th>\n",
       "      <td>1/07/2018</td>\n",
       "      <td>ADELAIDE</td>\n",
       "      <td>5000</td>\n",
       "      <td>OFFENCES AGAINST PROPERTY</td>\n",
       "      <td>THEFT AND RELATED OFFENCES</td>\n",
       "      <td>Theft from motor vehicle</td>\n",
       "      <td>1.0</td>\n",
       "    </tr>\n",
       "  </tbody>\n",
       "</table>\n",
       "</div>"
      ],
      "text/plain": [
       "  Reported Date Suburb - Incident Postcode - Incident  \\\n",
       "0     1/07/2018    ABERFOYLE PARK                5159   \n",
       "1     1/07/2018          ADELAIDE                5000   \n",
       "2     1/07/2018          ADELAIDE                5000   \n",
       "3     1/07/2018          ADELAIDE                5000   \n",
       "4     1/07/2018          ADELAIDE                5000   \n",
       "\n",
       "  Offence Level 1 Description        Offence Level 2 Description  \\\n",
       "0   OFFENCES AGAINST PROPERTY         THEFT AND RELATED OFFENCES   \n",
       "1   OFFENCES AGAINST PROPERTY  PROPERTY DAMAGE AND ENVIRONMENTAL   \n",
       "2   OFFENCES AGAINST PROPERTY         THEFT AND RELATED OFFENCES   \n",
       "3   OFFENCES AGAINST PROPERTY         THEFT AND RELATED OFFENCES   \n",
       "4   OFFENCES AGAINST PROPERTY         THEFT AND RELATED OFFENCES   \n",
       "\n",
       "               Offence Level 3 Description  Offence count  \n",
       "0                 Theft from motor vehicle            1.0  \n",
       "1  Other property damage and environmental            1.0  \n",
       "2                              Other theft            5.0  \n",
       "3      Receive or handle proceeds of crime            1.0  \n",
       "4                 Theft from motor vehicle            1.0  "
      ]
     },
     "execution_count": 4,
     "metadata": {},
     "output_type": "execute_result"
    }
   ],
   "source": [
    "data = pd.read_csv('resources/2018-19-data_sa_crime.csv')\n",
    "data.head()\n"
   ]
  },
  {
   "cell_type": "markdown",
   "id": "f97ce311",
   "metadata": {},
   "source": [
    "# Locate missing data \n",
    "Locate missing data using the python funciton `isnull()`, which will identify every where within our data set where there is missing values.This function will return a list where `True` indicates a missing value. We then use the `sum()` function will return the number of missing elements per column "
   ]
  },
  {
   "cell_type": "code",
   "execution_count": 8,
   "id": "7b18897c",
   "metadata": {},
   "outputs": [
    {
     "data": {
      "text/plain": [
       "Reported Date                    1\n",
       "Suburb - Incident              197\n",
       "Postcode - Incident            373\n",
       "Offence Level 1 Description      1\n",
       "Offence Level 2 Description      1\n",
       "Offence Level 3 Description      1\n",
       "Offence count                    1\n",
       "dtype: int64"
      ]
     },
     "execution_count": 8,
     "metadata": {},
     "output_type": "execute_result"
    }
   ],
   "source": [
    "data.isnull().sum()"
   ]
  },
  {
   "cell_type": "markdown",
   "id": "be5395d7",
   "metadata": {},
   "source": [
    "# Cleaning\n",
    "Looking at the above table, it is evident that the key columns of this data set are:\n",
    "1. Reported Date \n",
    "2. Postcode - Incident\n",
    "3. Offence Level 1 Description\n",
    "4. Offence count\n",
    "## Replacing missing data\n",
    "- Missing data within the *Suburb - Incident* row can be filled assuming the post code is known. \n",
    "- We will not be filling *Postcode - Incident* information that is missing as multiple postcodes can have the same or differnt suburb name i.e. Postcode is an **identifier** where as *Suburb - Incident* is an **identity** \n",
    "## Removing data\n",
    "Any column which is missing the aforementioned four missing values will be removed as they are critical to this analysis\n"
   ]
  },
  {
   "cell_type": "code",
   "execution_count": null,
   "id": "22209c09",
   "metadata": {},
   "outputs": [],
   "source": []
  }
 ],
 "metadata": {
  "kernelspec": {
   "display_name": "Python 3 (ipykernel)",
   "language": "python",
   "name": "python3"
  },
  "language_info": {
   "codemirror_mode": {
    "name": "ipython",
    "version": 3
   },
   "file_extension": ".py",
   "mimetype": "text/x-python",
   "name": "python",
   "nbconvert_exporter": "python",
   "pygments_lexer": "ipython3",
   "version": "3.9.7"
  }
 },
 "nbformat": 4,
 "nbformat_minor": 5
}
